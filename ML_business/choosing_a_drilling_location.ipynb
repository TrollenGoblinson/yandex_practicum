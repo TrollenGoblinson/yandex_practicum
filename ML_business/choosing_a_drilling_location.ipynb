{
 "cells": [
  {
   "cell_type": "markdown",
   "id": "bf33a230",
   "metadata": {},
   "source": [
    "# Выбор места бурения"
   ]
  },
  {
   "cell_type": "markdown",
   "id": "c767f57c",
   "metadata": {},
   "source": [
    "## Введение"
   ]
  },
  {
   "cell_type": "markdown",
   "id": "5bbb6148",
   "metadata": {},
   "source": [
    "Предоставлены пробы нефти в трёх регионах. Характеристики скважин уже известны. Необходимо построить модель для определения региона, где добыча принесёт наибольшую прибыль."
   ]
  },
  {
   "cell_type": "markdown",
   "id": "c6d79b03",
   "metadata": {},
   "source": [
    "## Цель"
   ]
  },
  {
   "cell_type": "markdown",
   "id": "c45bb769",
   "metadata": {},
   "source": [
    "Исходя из предоставленных данных, необходимо выбрать место для бурения новой скважины, где дабыча принесет максимальную прибыль."
   ]
  },
  {
   "cell_type": "markdown",
   "id": "65d98a7f",
   "metadata": {},
   "source": [
    "## Импорты"
   ]
  },
  {
   "cell_type": "code",
   "execution_count": 1,
   "id": "c5eb5ad1",
   "metadata": {},
   "outputs": [],
   "source": [
    "import pandas as pd\n",
    "import seaborn as sns\n",
    "import numpy as np\n",
    "from matplotlib import pyplot as plt\n",
    "from sklearn.model_selection import train_test_split\n",
    "from sklearn.linear_model import LinearRegression\n",
    "from sklearn.metrics import mean_squared_error\n",
    "from tqdm.notebook import tqdm\n",
    "from scipy import stats as st\n",
    "\n",
    "RND = np.random.RandomState(12345)\n",
    "BOOTHSTRP_SAMPLS = 1000\n",
    "BUDGET = 10**10\n",
    "INCOME_ONE_PROD = 450000\n",
    "POINTS = 500\n",
    "BEST_POINTS = 200"
   ]
  },
  {
   "cell_type": "markdown",
   "id": "26bbb9a8",
   "metadata": {},
   "source": [
    "# Подготовка данных"
   ]
  },
  {
   "cell_type": "markdown",
   "id": "5b5a1545",
   "metadata": {},
   "source": [
    "## Загрузка данных"
   ]
  },
  {
   "cell_type": "code",
   "execution_count": 3,
   "id": "507c779d",
   "metadata": {},
   "outputs": [],
   "source": [
    "try:\n",
    "    df_0 = pd.read_csv('geo_data_0.csv')\n",
    "    df_1 = pd.read_csv('geo_data_1.csv')\n",
    "    df_2 = pd.read_csv('geo_data_2.csv')\n",
    "except:\n",
    "    df_0 = pd.read_csv('/datasets/geo_data_0.csv')\n",
    "    df_1 = pd.read_csv('/datasets/geo_data_1.csv')\n",
    "    df_2 = pd.read_csv('/datasets/geo_data_2.csv')\n",
    "regs = [df_0, df_1, df_2]"
   ]
  },
  {
   "cell_type": "markdown",
   "id": "0217a14e",
   "metadata": {},
   "source": [
    "## Общая информация о данных"
   ]
  },
  {
   "cell_type": "code",
   "execution_count": 4,
   "id": "a0977275",
   "metadata": {},
   "outputs": [
    {
     "data": {
      "text/html": [
       "<div>\n",
       "<style scoped>\n",
       "    .dataframe tbody tr th:only-of-type {\n",
       "        vertical-align: middle;\n",
       "    }\n",
       "\n",
       "    .dataframe tbody tr th {\n",
       "        vertical-align: top;\n",
       "    }\n",
       "\n",
       "    .dataframe thead th {\n",
       "        text-align: right;\n",
       "    }\n",
       "</style>\n",
       "<table border=\"1\" class=\"dataframe\">\n",
       "  <thead>\n",
       "    <tr style=\"text-align: right;\">\n",
       "      <th></th>\n",
       "      <th>id</th>\n",
       "      <th>f0</th>\n",
       "      <th>f1</th>\n",
       "      <th>f2</th>\n",
       "      <th>product</th>\n",
       "    </tr>\n",
       "  </thead>\n",
       "  <tbody>\n",
       "    <tr>\n",
       "      <th>0</th>\n",
       "      <td>txEyH</td>\n",
       "      <td>0.705745</td>\n",
       "      <td>-0.497823</td>\n",
       "      <td>1.221170</td>\n",
       "      <td>105.280062</td>\n",
       "    </tr>\n",
       "    <tr>\n",
       "      <th>1</th>\n",
       "      <td>2acmU</td>\n",
       "      <td>1.334711</td>\n",
       "      <td>-0.340164</td>\n",
       "      <td>4.365080</td>\n",
       "      <td>73.037750</td>\n",
       "    </tr>\n",
       "    <tr>\n",
       "      <th>2</th>\n",
       "      <td>409Wp</td>\n",
       "      <td>1.022732</td>\n",
       "      <td>0.151990</td>\n",
       "      <td>1.419926</td>\n",
       "      <td>85.265647</td>\n",
       "    </tr>\n",
       "    <tr>\n",
       "      <th>3</th>\n",
       "      <td>iJLyR</td>\n",
       "      <td>-0.032172</td>\n",
       "      <td>0.139033</td>\n",
       "      <td>2.978566</td>\n",
       "      <td>168.620776</td>\n",
       "    </tr>\n",
       "    <tr>\n",
       "      <th>4</th>\n",
       "      <td>Xdl7t</td>\n",
       "      <td>1.988431</td>\n",
       "      <td>0.155413</td>\n",
       "      <td>4.751769</td>\n",
       "      <td>154.036647</td>\n",
       "    </tr>\n",
       "  </tbody>\n",
       "</table>\n",
       "</div>"
      ],
      "text/plain": [
       "      id        f0        f1        f2     product\n",
       "0  txEyH  0.705745 -0.497823  1.221170  105.280062\n",
       "1  2acmU  1.334711 -0.340164  4.365080   73.037750\n",
       "2  409Wp  1.022732  0.151990  1.419926   85.265647\n",
       "3  iJLyR -0.032172  0.139033  2.978566  168.620776\n",
       "4  Xdl7t  1.988431  0.155413  4.751769  154.036647"
      ]
     },
     "metadata": {},
     "output_type": "display_data"
    },
    {
     "name": "stdout",
     "output_type": "stream",
     "text": [
      "<class 'pandas.core.frame.DataFrame'>\n",
      "RangeIndex: 100000 entries, 0 to 99999\n",
      "Data columns (total 5 columns):\n",
      " #   Column   Non-Null Count   Dtype  \n",
      "---  ------   --------------   -----  \n",
      " 0   id       100000 non-null  object \n",
      " 1   f0       100000 non-null  float64\n",
      " 2   f1       100000 non-null  float64\n",
      " 3   f2       100000 non-null  float64\n",
      " 4   product  100000 non-null  float64\n",
      "dtypes: float64(4), object(1)\n",
      "memory usage: 3.8+ MB\n",
      "******************************\n"
     ]
    },
    {
     "data": {
      "text/html": [
       "<div>\n",
       "<style scoped>\n",
       "    .dataframe tbody tr th:only-of-type {\n",
       "        vertical-align: middle;\n",
       "    }\n",
       "\n",
       "    .dataframe tbody tr th {\n",
       "        vertical-align: top;\n",
       "    }\n",
       "\n",
       "    .dataframe thead th {\n",
       "        text-align: right;\n",
       "    }\n",
       "</style>\n",
       "<table border=\"1\" class=\"dataframe\">\n",
       "  <thead>\n",
       "    <tr style=\"text-align: right;\">\n",
       "      <th></th>\n",
       "      <th>id</th>\n",
       "      <th>f0</th>\n",
       "      <th>f1</th>\n",
       "      <th>f2</th>\n",
       "      <th>product</th>\n",
       "    </tr>\n",
       "  </thead>\n",
       "  <tbody>\n",
       "    <tr>\n",
       "      <th>0</th>\n",
       "      <td>kBEdx</td>\n",
       "      <td>-15.001348</td>\n",
       "      <td>-8.276000</td>\n",
       "      <td>-0.005876</td>\n",
       "      <td>3.179103</td>\n",
       "    </tr>\n",
       "    <tr>\n",
       "      <th>1</th>\n",
       "      <td>62mP7</td>\n",
       "      <td>14.272088</td>\n",
       "      <td>-3.475083</td>\n",
       "      <td>0.999183</td>\n",
       "      <td>26.953261</td>\n",
       "    </tr>\n",
       "    <tr>\n",
       "      <th>2</th>\n",
       "      <td>vyE1P</td>\n",
       "      <td>6.263187</td>\n",
       "      <td>-5.948386</td>\n",
       "      <td>5.001160</td>\n",
       "      <td>134.766305</td>\n",
       "    </tr>\n",
       "    <tr>\n",
       "      <th>3</th>\n",
       "      <td>KcrkZ</td>\n",
       "      <td>-13.081196</td>\n",
       "      <td>-11.506057</td>\n",
       "      <td>4.999415</td>\n",
       "      <td>137.945408</td>\n",
       "    </tr>\n",
       "    <tr>\n",
       "      <th>4</th>\n",
       "      <td>AHL4O</td>\n",
       "      <td>12.702195</td>\n",
       "      <td>-8.147433</td>\n",
       "      <td>5.004363</td>\n",
       "      <td>134.766305</td>\n",
       "    </tr>\n",
       "  </tbody>\n",
       "</table>\n",
       "</div>"
      ],
      "text/plain": [
       "      id         f0         f1        f2     product\n",
       "0  kBEdx -15.001348  -8.276000 -0.005876    3.179103\n",
       "1  62mP7  14.272088  -3.475083  0.999183   26.953261\n",
       "2  vyE1P   6.263187  -5.948386  5.001160  134.766305\n",
       "3  KcrkZ -13.081196 -11.506057  4.999415  137.945408\n",
       "4  AHL4O  12.702195  -8.147433  5.004363  134.766305"
      ]
     },
     "metadata": {},
     "output_type": "display_data"
    },
    {
     "name": "stdout",
     "output_type": "stream",
     "text": [
      "<class 'pandas.core.frame.DataFrame'>\n",
      "RangeIndex: 100000 entries, 0 to 99999\n",
      "Data columns (total 5 columns):\n",
      " #   Column   Non-Null Count   Dtype  \n",
      "---  ------   --------------   -----  \n",
      " 0   id       100000 non-null  object \n",
      " 1   f0       100000 non-null  float64\n",
      " 2   f1       100000 non-null  float64\n",
      " 3   f2       100000 non-null  float64\n",
      " 4   product  100000 non-null  float64\n",
      "dtypes: float64(4), object(1)\n",
      "memory usage: 3.8+ MB\n",
      "******************************\n"
     ]
    },
    {
     "data": {
      "text/html": [
       "<div>\n",
       "<style scoped>\n",
       "    .dataframe tbody tr th:only-of-type {\n",
       "        vertical-align: middle;\n",
       "    }\n",
       "\n",
       "    .dataframe tbody tr th {\n",
       "        vertical-align: top;\n",
       "    }\n",
       "\n",
       "    .dataframe thead th {\n",
       "        text-align: right;\n",
       "    }\n",
       "</style>\n",
       "<table border=\"1\" class=\"dataframe\">\n",
       "  <thead>\n",
       "    <tr style=\"text-align: right;\">\n",
       "      <th></th>\n",
       "      <th>id</th>\n",
       "      <th>f0</th>\n",
       "      <th>f1</th>\n",
       "      <th>f2</th>\n",
       "      <th>product</th>\n",
       "    </tr>\n",
       "  </thead>\n",
       "  <tbody>\n",
       "    <tr>\n",
       "      <th>0</th>\n",
       "      <td>fwXo0</td>\n",
       "      <td>-1.146987</td>\n",
       "      <td>0.963328</td>\n",
       "      <td>-0.828965</td>\n",
       "      <td>27.758673</td>\n",
       "    </tr>\n",
       "    <tr>\n",
       "      <th>1</th>\n",
       "      <td>WJtFt</td>\n",
       "      <td>0.262778</td>\n",
       "      <td>0.269839</td>\n",
       "      <td>-2.530187</td>\n",
       "      <td>56.069697</td>\n",
       "    </tr>\n",
       "    <tr>\n",
       "      <th>2</th>\n",
       "      <td>ovLUW</td>\n",
       "      <td>0.194587</td>\n",
       "      <td>0.289035</td>\n",
       "      <td>-5.586433</td>\n",
       "      <td>62.871910</td>\n",
       "    </tr>\n",
       "    <tr>\n",
       "      <th>3</th>\n",
       "      <td>q6cA6</td>\n",
       "      <td>2.236060</td>\n",
       "      <td>-0.553760</td>\n",
       "      <td>0.930038</td>\n",
       "      <td>114.572842</td>\n",
       "    </tr>\n",
       "    <tr>\n",
       "      <th>4</th>\n",
       "      <td>WPMUX</td>\n",
       "      <td>-0.515993</td>\n",
       "      <td>1.716266</td>\n",
       "      <td>5.899011</td>\n",
       "      <td>149.600746</td>\n",
       "    </tr>\n",
       "  </tbody>\n",
       "</table>\n",
       "</div>"
      ],
      "text/plain": [
       "      id        f0        f1        f2     product\n",
       "0  fwXo0 -1.146987  0.963328 -0.828965   27.758673\n",
       "1  WJtFt  0.262778  0.269839 -2.530187   56.069697\n",
       "2  ovLUW  0.194587  0.289035 -5.586433   62.871910\n",
       "3  q6cA6  2.236060 -0.553760  0.930038  114.572842\n",
       "4  WPMUX -0.515993  1.716266  5.899011  149.600746"
      ]
     },
     "metadata": {},
     "output_type": "display_data"
    },
    {
     "name": "stdout",
     "output_type": "stream",
     "text": [
      "<class 'pandas.core.frame.DataFrame'>\n",
      "RangeIndex: 100000 entries, 0 to 99999\n",
      "Data columns (total 5 columns):\n",
      " #   Column   Non-Null Count   Dtype  \n",
      "---  ------   --------------   -----  \n",
      " 0   id       100000 non-null  object \n",
      " 1   f0       100000 non-null  float64\n",
      " 2   f1       100000 non-null  float64\n",
      " 3   f2       100000 non-null  float64\n",
      " 4   product  100000 non-null  float64\n",
      "dtypes: float64(4), object(1)\n",
      "memory usage: 3.8+ MB\n",
      "******************************\n"
     ]
    }
   ],
   "source": [
    "for _ in regs:\n",
    "    display(_.head())\n",
    "    _.info()\n",
    "    print('*' * 30)"
   ]
  },
  {
   "cell_type": "markdown",
   "id": "6feaae10",
   "metadata": {},
   "source": [
    "**Пропуски**"
   ]
  },
  {
   "cell_type": "code",
   "execution_count": 5,
   "id": "95cb0205",
   "metadata": {},
   "outputs": [
    {
     "name": "stdout",
     "output_type": "stream",
     "text": [
      "id         0\n",
      "f0         0\n",
      "f1         0\n",
      "f2         0\n",
      "product    0\n",
      "dtype: int64\n",
      "id         0\n",
      "f0         0\n",
      "f1         0\n",
      "f2         0\n",
      "product    0\n",
      "dtype: int64\n",
      "id         0\n",
      "f0         0\n",
      "f1         0\n",
      "f2         0\n",
      "product    0\n",
      "dtype: int64\n"
     ]
    }
   ],
   "source": [
    "for _ in regs:\n",
    "    print(_.isnull().sum())"
   ]
  },
  {
   "cell_type": "markdown",
   "id": "6dede9fb",
   "metadata": {},
   "source": [
    "**Наличие дубликатов**"
   ]
  },
  {
   "cell_type": "code",
   "execution_count": 6,
   "id": "ad04413f",
   "metadata": {},
   "outputs": [
    {
     "name": "stdout",
     "output_type": "stream",
     "text": [
      "0\n",
      "0\n",
      "0\n"
     ]
    }
   ],
   "source": [
    "for _ in regs:\n",
    "    print(_.duplicated().sum())"
   ]
  },
  {
   "cell_type": "markdown",
   "id": "641264d4",
   "metadata": {},
   "source": [
    "**Повторы ID**"
   ]
  },
  {
   "cell_type": "code",
   "execution_count": 7,
   "id": "fb5e3b0c",
   "metadata": {
    "scrolled": false
   },
   "outputs": [
    {
     "name": "stdout",
     "output_type": "stream",
     "text": [
      "99990\n",
      "99996\n",
      "99996\n"
     ]
    }
   ],
   "source": [
    "for _ in regs:\n",
    "    print(len(_['id'].unique()))"
   ]
  },
  {
   "cell_type": "markdown",
   "id": "8ba1fd40",
   "metadata": {},
   "source": [
    "## Удаляем дубликаты ID и столбец ID"
   ]
  },
  {
   "cell_type": "code",
   "execution_count": 8,
   "id": "0a41a971",
   "metadata": {},
   "outputs": [],
   "source": [
    "df_0 = df_0.drop_duplicates(subset=['id']).reset_index(drop=True)\n",
    "df_0 = df_0.drop(['id'], axis=1)\n",
    "df_1 = df_1.drop_duplicates(subset=['id']).reset_index(drop=True)\n",
    "df_1 = df_1.drop(['id'], axis=1)\n",
    "df_2 = df_2.drop_duplicates(subset=['id']).reset_index(drop=True)\n",
    "df_2 = df_2.drop(['id'], axis=1)"
   ]
  },
  {
   "cell_type": "markdown",
   "id": "b1cc0965",
   "metadata": {},
   "source": [
    "## Корреляция"
   ]
  },
  {
   "cell_type": "code",
   "execution_count": 9,
   "id": "53c9e28e",
   "metadata": {},
   "outputs": [
    {
     "data": {
      "image/png": "[encoded data removed]",
      "text/plain": [
       "<Figure size 1152x432 with 2 Axes>"
      ]
     },
     "metadata": {
      "needs_background": "light"
     },
     "output_type": "display_data"
    }
   ],
   "source": [
    "plt.figure(figsize=(16, 6)) \n",
    "\n",
    "heatmap = sns.heatmap(df_0.corr(), annot=True) \n",
    "heatmap.set_title('Корреляция на тепловой карте. Нулевой регион', fontdict={'fontsize':12}, pad=12);"
   ]
  },
  {
   "cell_type": "markdown",
   "id": "f71dfea3",
   "metadata": {},
   "source": [
    "Видна не значительная прямая и обратная корреляция признаков F0, F2 и Product"
   ]
  },
  {
   "cell_type": "code",
   "execution_count": 10,
   "id": "ce26643d",
   "metadata": {},
   "outputs": [
    {
     "data": {
      "image/png": "[encoded data removed]",
      "text/plain": [
       "<Figure size 1152x432 with 2 Axes>"
      ]
     },
     "metadata": {
      "needs_background": "light"
     },
     "output_type": "display_data"
    }
   ],
   "source": [
    "plt.figure(figsize=(16, 6)) \n",
    "\n",
    "heatmap = sns.heatmap(df_1.corr(), annot=True) \n",
    "heatmap.set_title('Корреляция на тепловой карте. Первый регион', fontdict={'fontsize':12}, pad=12);"
   ]
  },
  {
   "cell_type": "markdown",
   "id": "f8cb6e3a",
   "metadata": {},
   "source": [
    "В первом регионе интересная картина. У F2 и Product почти стапроцентная корреляция"
   ]
  },
  {
   "cell_type": "code",
   "execution_count": 11,
   "id": "55c323e7",
   "metadata": {},
   "outputs": [
    {
     "data": {
      "text/html": [
       "<div>\n",
       "<style scoped>\n",
       "    .dataframe tbody tr th:only-of-type {\n",
       "        vertical-align: middle;\n",
       "    }\n",
       "\n",
       "    .dataframe tbody tr th {\n",
       "        vertical-align: top;\n",
       "    }\n",
       "\n",
       "    .dataframe thead th {\n",
       "        text-align: right;\n",
       "    }\n",
       "</style>\n",
       "<table border=\"1\" class=\"dataframe\">\n",
       "  <thead>\n",
       "    <tr style=\"text-align: right;\">\n",
       "      <th></th>\n",
       "      <th>f0</th>\n",
       "      <th>f1</th>\n",
       "      <th>f2</th>\n",
       "      <th>product</th>\n",
       "    </tr>\n",
       "  </thead>\n",
       "  <tbody>\n",
       "    <tr>\n",
       "      <th>f0</th>\n",
       "      <td>1.000000</td>\n",
       "      <td>0.182279</td>\n",
       "      <td>-0.001810</td>\n",
       "      <td>-0.030523</td>\n",
       "    </tr>\n",
       "    <tr>\n",
       "      <th>f1</th>\n",
       "      <td>0.182279</td>\n",
       "      <td>1.000000</td>\n",
       "      <td>-0.002594</td>\n",
       "      <td>-0.010154</td>\n",
       "    </tr>\n",
       "    <tr>\n",
       "      <th>f2</th>\n",
       "      <td>-0.001810</td>\n",
       "      <td>-0.002594</td>\n",
       "      <td>1.000000</td>\n",
       "      <td>0.999397</td>\n",
       "    </tr>\n",
       "    <tr>\n",
       "      <th>product</th>\n",
       "      <td>-0.030523</td>\n",
       "      <td>-0.010154</td>\n",
       "      <td>0.999397</td>\n",
       "      <td>1.000000</td>\n",
       "    </tr>\n",
       "  </tbody>\n",
       "</table>\n",
       "</div>"
      ],
      "text/plain": [
       "               f0        f1        f2   product\n",
       "f0       1.000000  0.182279 -0.001810 -0.030523\n",
       "f1       0.182279  1.000000 -0.002594 -0.010154\n",
       "f2      -0.001810 -0.002594  1.000000  0.999397\n",
       "product -0.030523 -0.010154  0.999397  1.000000"
      ]
     },
     "execution_count": 11,
     "metadata": {},
     "output_type": "execute_result"
    }
   ],
   "source": [
    "df_1.corr()"
   ]
  },
  {
   "cell_type": "code",
   "execution_count": 12,
   "id": "70d7be20",
   "metadata": {},
   "outputs": [
    {
     "data": {
      "image/png": "[encoded data removed]",
      "text/plain": [
       "<Figure size 1152x432 with 2 Axes>"
      ]
     },
     "metadata": {
      "needs_background": "light"
     },
     "output_type": "display_data"
    }
   ],
   "source": [
    "plt.figure(figsize=(16, 6)) \n",
    "\n",
    "heatmap = sns.heatmap(df_2.corr(), annot=True) \n",
    "heatmap.set_title('Корреляция на тепловой карте. Второй регион', fontdict={'fontsize':12}, pad=12);"
   ]
  },
  {
   "cell_type": "markdown",
   "id": "681d6052",
   "metadata": {},
   "source": [
    "Во втором регионе есть корреляция Product и F2, остальные признаки по видимому вообще не влияют."
   ]
  },
  {
   "cell_type": "markdown",
   "id": "2f8399d6",
   "metadata": {},
   "source": [
    "## График объемов запасов сырья по регионам"
   ]
  },
  {
   "cell_type": "code",
   "execution_count": 13,
   "id": "e4a35f2b",
   "metadata": {},
   "outputs": [
    {
     "data": {
      "image/png": "[encoded data removed]",
      "text/plain": [
       "<Figure size 864x504 with 1 Axes>"
      ]
     },
     "metadata": {
      "needs_background": "light"
     },
     "output_type": "display_data"
    }
   ],
   "source": [
    "plt.title('Графики распределения запасов сырья в регионах')\n",
    "ax=df_0['product'].plot(kind='hist',figsize=(12,7),grid=True, legend=True, \n",
    "                          alpha=0.7, histtype='step', linewidth=5, label='0 регион')\n",
    "ax1=df_1['product'].plot(kind='hist',figsize=(12,7),grid=True, legend=True, \n",
    "                           alpha=0.7,histtype='step', linewidth=5, label='1 регион', ax=ax)\n",
    "df_2['product'].plot(kind='hist',figsize=(12,7),grid=True, legend=True, \n",
    "                       alpha=0.7,histtype='step', linewidth=5, label='2 регион', ax=ax1)\n",
    "plt.xlabel('Запасы сырья, тыс. баррелей')\n",
    "plt.ylabel('Частота')\n",
    "plt.show()"
   ]
  },
  {
   "cell_type": "markdown",
   "id": "a3747d51",
   "metadata": {},
   "source": [
    "Для первого региона кривая сильно отличается от остальных. На данных корреляции для этого региона тоже была видна сильная зависимость. Это может играть большое значение при анализе рентабильности и отражаться на предсказаниях модели для этого региона."
   ]
  },
  {
   "cell_type": "markdown",
   "id": "d25729d2",
   "metadata": {},
   "source": [
    "# Обучение и проверка модели"
   ]
  },
  {
   "cell_type": "markdown",
   "id": "bb4672fd",
   "metadata": {},
   "source": [
    "## Разбиваем на `train` и `valid` в соотношении 75:25"
   ]
  },
  {
   "cell_type": "code",
   "execution_count": 14,
   "id": "e3f1e8f9",
   "metadata": {},
   "outputs": [],
   "source": [
    "def train_valid (data):\n",
    "    features = data.drop(['product'], axis = 1)\n",
    "    target = data['product']\n",
    "    features_train, features_valid, target_train, target_valid = train_test_split(\n",
    "        features, target, test_size=.25, random_state=RND)\n",
    "    data_separation = pd.DataFrame({'name': ['features_train',\n",
    "                                         'features_valid'],\n",
    "                                    'parts_data_frame': [\n",
    "                                        features_train.shape[0],\n",
    "                                        features_valid.shape[0]]})\n",
    "                                    \n",
    "    data_separation = data_separation.set_index('name')\n",
    "    data_separation.plot(kind='pie', y='parts_data_frame', autopct='%1.0f%%', title='соотношение 75:25')\n",
    "    return features_train, features_valid, target_train, target_valid "
   ]
  },
  {
   "cell_type": "markdown",
   "id": "00dcd123",
   "metadata": {},
   "source": [
    "**Нулевой регион**"
   ]
  },
  {
   "cell_type": "code",
   "execution_count": 15,
   "id": "c72dd089",
   "metadata": {},
   "outputs": [
    {
     "data": {
      "image/png": "[encoded data removed]",
      "text/plain": [
       "<Figure size 432x288 with 1 Axes>"
      ]
     },
     "metadata": {},
     "output_type": "display_data"
    }
   ],
   "source": [
    "features_train_0, features_valid_0, target_train_0, target_valid_0 = train_valid(df_0)"
   ]
  },
  {
   "cell_type": "markdown",
   "id": "74848d80",
   "metadata": {},
   "source": [
    "**Первый регион**"
   ]
  },
  {
   "cell_type": "code",
   "execution_count": 16,
   "id": "c0bb26a2",
   "metadata": {},
   "outputs": [
    {
     "data": {
      "image/png": "[encoded data removed]",
      "text/plain": [
       "<Figure size 432x288 with 1 Axes>"
      ]
     },
     "metadata": {},
     "output_type": "display_data"
    }
   ],
   "source": [
    "features_train_1, features_valid_1, target_train_1, target_valid_1 = train_valid(df_1)"
   ]
  },
  {
   "cell_type": "markdown",
   "id": "0a222f47",
   "metadata": {},
   "source": [
    "**Второй регион**"
   ]
  },
  {
   "cell_type": "code",
   "execution_count": 17,
   "id": "85dc399d",
   "metadata": {},
   "outputs": [
    {
     "data": {
      "image/png": "[encoded data removed]",
      "text/plain": [
       "<Figure size 432x288 with 1 Axes>"
      ]
     },
     "metadata": {},
     "output_type": "display_data"
    }
   ],
   "source": [
    "features_train_2, features_valid_2, target_train_2, target_valid_2 = train_valid(df_2)"
   ]
  },
  {
   "cell_type": "markdown",
   "id": "80f5b7f9",
   "metadata": {},
   "source": [
    "## Обучение модели"
   ]
  },
  {
   "cell_type": "code",
   "execution_count": 18,
   "id": "50774191",
   "metadata": {},
   "outputs": [],
   "source": [
    "def prediction_reg(features_train, features_valid, target_train, target_valid):\n",
    "    model = LinearRegression()\n",
    "    model.fit(features_train, target_train)\n",
    "    return pd.Series(model.predict(features_valid)), target_valid"
   ]
  },
  {
   "cell_type": "code",
   "execution_count": 19,
   "id": "778be8e7",
   "metadata": {},
   "outputs": [],
   "source": [
    "predicted_0, target_0 = prediction_reg(features_train_0, features_valid_0, target_train_0, target_valid_0)\n",
    "predicted_1, target_1 = prediction_reg(features_train_1, features_valid_1, target_train_1, target_valid_1)\n",
    "predicted_2, target_2 = prediction_reg(features_train_2, features_valid_2, target_train_2, target_valid_2)"
   ]
  },
  {
   "cell_type": "markdown",
   "id": "24786796",
   "metadata": {},
   "source": [
    "## RMSE модели"
   ]
  },
  {
   "cell_type": "code",
   "execution_count": 20,
   "id": "05ecd665",
   "metadata": {},
   "outputs": [],
   "source": [
    "def show_rmse (target, predictions):\n",
    "    mse = mean_squared_error(target, predictions)\n",
    "    rmse = mse ** 0.5\n",
    "    predictions_mean = predictions.mean()\n",
    "    print('Средний запас сырья, тыс. баррелей:', predictions_mean)\n",
    "    print('RMSE:', rmse)\n",
    "    return predictions_mean, rmse"
   ]
  },
  {
   "cell_type": "code",
   "execution_count": 21,
   "id": "93338b0c",
   "metadata": {},
   "outputs": [
    {
     "name": "stdout",
     "output_type": "stream",
     "text": [
      "Регион 0\n",
      "Средний запас сырья, тыс. баррелей: 92.78915638280621\n",
      "RMSE: 37.853527328872964\n"
     ]
    }
   ],
   "source": [
    "print('Регион 0')\n",
    "predictions_mean_0, rmse_0 = show_rmse(target_0, predicted_0)"
   ]
  },
  {
   "cell_type": "code",
   "execution_count": 22,
   "id": "64cb21ad",
   "metadata": {},
   "outputs": [
    {
     "name": "stdout",
     "output_type": "stream",
     "text": [
      "Регион 1\n",
      "Средний запас сырья, тыс. баррелей: 68.95746560835222\n",
      "RMSE: 0.8947795612492053\n"
     ]
    }
   ],
   "source": [
    "print('Регион 1')\n",
    "predictions_mean_1, rmse_1 = show_rmse(target_1, predicted_1)"
   ]
  },
  {
   "cell_type": "code",
   "execution_count": 23,
   "id": "0f4d1b44",
   "metadata": {},
   "outputs": [
    {
     "name": "stdout",
     "output_type": "stream",
     "text": [
      "Регион 2\n",
      "Средний запас сырья, тыс. баррелей: 95.07949668343952\n",
      "RMSE: 40.04155743522127\n"
     ]
    }
   ],
   "source": [
    "print('Регион 2')\n",
    "predictions_mean_2, rmse_2 = show_rmse(target_2, predicted_2)"
   ]
  },
  {
   "cell_type": "code",
   "execution_count": 24,
   "id": "18d9d95b",
   "metadata": {},
   "outputs": [
    {
     "data": {
      "text/html": [
       "<div>\n",
       "<style scoped>\n",
       "    .dataframe tbody tr th:only-of-type {\n",
       "        vertical-align: middle;\n",
       "    }\n",
       "\n",
       "    .dataframe tbody tr th {\n",
       "        vertical-align: top;\n",
       "    }\n",
       "\n",
       "    .dataframe thead th {\n",
       "        text-align: right;\n",
       "    }\n",
       "</style>\n",
       "<table border=\"1\" class=\"dataframe\">\n",
       "  <thead>\n",
       "    <tr style=\"text-align: right;\">\n",
       "      <th></th>\n",
       "      <th>регион 0</th>\n",
       "      <th>регион 1</th>\n",
       "      <th>регион 2</th>\n",
       "    </tr>\n",
       "  </thead>\n",
       "  <tbody>\n",
       "    <tr>\n",
       "      <th>средний запас предсказанного сырья</th>\n",
       "      <td>92.789156</td>\n",
       "      <td>68.957466</td>\n",
       "      <td>95.079497</td>\n",
       "    </tr>\n",
       "    <tr>\n",
       "      <th>RMSE модели</th>\n",
       "      <td>37.853527</td>\n",
       "      <td>0.894780</td>\n",
       "      <td>40.041557</td>\n",
       "    </tr>\n",
       "  </tbody>\n",
       "</table>\n",
       "</div>"
      ],
      "text/plain": [
       "                                     регион 0   регион 1   регион 2\n",
       "средний запас предсказанного сырья  92.789156  68.957466  95.079497\n",
       "RMSE модели                         37.853527   0.894780  40.041557"
      ]
     },
     "execution_count": 24,
     "metadata": {},
     "output_type": "execute_result"
    }
   ],
   "source": [
    "final_table = pd.DataFrame(index=['средний запас предсказанного сырья','RMSE модели'], \n",
    "                               columns=['регион 0','регион 1','регион 2'])\n",
    "final_table['регион 0'] = predictions_mean_0, rmse_0\n",
    "final_table['регион 1'] = predictions_mean_1, rmse_1\n",
    "final_table['регион 2'] = predictions_mean_2, rmse_2\n",
    "final_table"
   ]
  },
  {
   "cell_type": "markdown",
   "id": "c77244d8",
   "metadata": {},
   "source": [
    "**Вывод:**<br>\n",
    "Проведено обучение моделей и проверенно качество RMSE, среднеквадратичной ошибки.\n",
    "Из общей картины регионов выделяется региион 1. Тут, самые маленькие запасы сырья и самая низкая ошибка предсказаний."
   ]
  },
  {
   "cell_type": "markdown",
   "id": "5f28bb78",
   "metadata": {},
   "source": [
    "# Подготовка к расчету прибыли"
   ]
  },
  {
   "cell_type": "code",
   "execution_count": 25,
   "id": "b6b419f6",
   "metadata": {},
   "outputs": [],
   "source": [
    "BUDGET_FOR_ONE = BUDGET / BEST_POINTS\n",
    "min_volume_product = BUDGET_FOR_ONE / INCOME_ONE_PROD"
   ]
  },
  {
   "cell_type": "code",
   "execution_count": 26,
   "id": "68020ddc",
   "metadata": {},
   "outputs": [
    {
     "name": "stdout",
     "output_type": "stream",
     "text": [
      "Объём сырья скважины для безубыточной разработки должен составлять не менее: 111.11 тыс.баррелей\n"
     ]
    }
   ],
   "source": [
    "print('Объём сырья скважины для безубыточной разработки \\\n",
    "должен составлять не менее: %.2f'%min_volume_product, 'тыс.баррелей')"
   ]
  },
  {
   "cell_type": "code",
   "execution_count": 27,
   "id": "6e4e3835",
   "metadata": {},
   "outputs": [
    {
     "name": "stdout",
     "output_type": "stream",
     "text": [
      "Бюджет на разработку одной скважины: 50.0 млн.руб\n"
     ]
    }
   ],
   "source": [
    "print('Бюджет на разработку одной скважины:', BUDGET_FOR_ONE/1000000,'млн.руб')"
   ]
  },
  {
   "cell_type": "code",
   "execution_count": 28,
   "id": "c4163d84",
   "metadata": {},
   "outputs": [
    {
     "name": "stdout",
     "output_type": "stream",
     "text": [
      "Средний истинный запас сырья в регионах, тыс. баррелей:\n",
      "\n",
      "Регион  0 :  92.78915638280621\n",
      "Регион  1 :  68.95746560835222\n",
      "Регион  2 :  95.07949668343952\n",
      "\n",
      "Для разработки требуется не менее: 111.11 тыс.баррелей\n"
     ]
    }
   ],
   "source": [
    "print(\"Средний истинный запас сырья в регионах, тыс. баррелей:\")\n",
    "print()\n",
    "count = 0\n",
    "targets = [predictions_mean_0, predictions_mean_1, predictions_mean_2]\n",
    "for target in targets:\n",
    "    print('Регион ', count,': ',  target)\n",
    "    count += 1\n",
    "print()\n",
    "print('Для разработки требуется не менее: %.2f'%min_volume_product, 'тыс.баррелей')"
   ]
  },
  {
   "cell_type": "markdown",
   "id": "0e703501",
   "metadata": {},
   "source": [
    "**Исходя из среднего запаса сырья в региона, разработка в любом из них будет убыточной.**"
   ]
  },
  {
   "cell_type": "markdown",
   "id": "a6e919c4",
   "metadata": {},
   "source": [
    "## Соотношение полученного среднего объема с запасом в каждом ренионе "
   ]
  },
  {
   "cell_type": "code",
   "execution_count": 29,
   "id": "1cc5aae3",
   "metadata": {
    "scrolled": false
   },
   "outputs": [
    {
     "data": {
      "text/html": [
       "<div>\n",
       "<style scoped>\n",
       "    .dataframe tbody tr th:only-of-type {\n",
       "        vertical-align: middle;\n",
       "    }\n",
       "\n",
       "    .dataframe tbody tr th {\n",
       "        vertical-align: top;\n",
       "    }\n",
       "\n",
       "    .dataframe thead th {\n",
       "        text-align: right;\n",
       "    }\n",
       "</style>\n",
       "<table border=\"1\" class=\"dataframe\">\n",
       "  <thead>\n",
       "    <tr style=\"text-align: right;\">\n",
       "      <th></th>\n",
       "      <th>f0</th>\n",
       "      <th>f1</th>\n",
       "      <th>f2</th>\n",
       "      <th>product</th>\n",
       "      <th>profit</th>\n",
       "    </tr>\n",
       "  </thead>\n",
       "  <tbody>\n",
       "    <tr>\n",
       "      <th>0</th>\n",
       "      <td>0.705745</td>\n",
       "      <td>-0.497823</td>\n",
       "      <td>1.221170</td>\n",
       "      <td>105.280062</td>\n",
       "      <td>47376.03</td>\n",
       "    </tr>\n",
       "    <tr>\n",
       "      <th>1</th>\n",
       "      <td>1.334711</td>\n",
       "      <td>-0.340164</td>\n",
       "      <td>4.365080</td>\n",
       "      <td>73.037750</td>\n",
       "      <td>32866.99</td>\n",
       "    </tr>\n",
       "    <tr>\n",
       "      <th>2</th>\n",
       "      <td>1.022732</td>\n",
       "      <td>0.151990</td>\n",
       "      <td>1.419926</td>\n",
       "      <td>85.265647</td>\n",
       "      <td>38369.54</td>\n",
       "    </tr>\n",
       "    <tr>\n",
       "      <th>3</th>\n",
       "      <td>-0.032172</td>\n",
       "      <td>0.139033</td>\n",
       "      <td>2.978566</td>\n",
       "      <td>168.620776</td>\n",
       "      <td>75879.35</td>\n",
       "    </tr>\n",
       "    <tr>\n",
       "      <th>4</th>\n",
       "      <td>1.988431</td>\n",
       "      <td>0.155413</td>\n",
       "      <td>4.751769</td>\n",
       "      <td>154.036647</td>\n",
       "      <td>69316.49</td>\n",
       "    </tr>\n",
       "  </tbody>\n",
       "</table>\n",
       "</div>"
      ],
      "text/plain": [
       "         f0        f1        f2     product    profit\n",
       "0  0.705745 -0.497823  1.221170  105.280062  47376.03\n",
       "1  1.334711 -0.340164  4.365080   73.037750  32866.99\n",
       "2  1.022732  0.151990  1.419926   85.265647  38369.54\n",
       "3 -0.032172  0.139033  2.978566  168.620776  75879.35\n",
       "4  1.988431  0.155413  4.751769  154.036647  69316.49"
      ]
     },
     "execution_count": 29,
     "metadata": {},
     "output_type": "execute_result"
    }
   ],
   "source": [
    "df_0['profit']=(df_0['product']*(INCOME_ONE_PROD/1000)).round(2) # profit, тыс.руб\n",
    "df_0.head()"
   ]
  },
  {
   "cell_type": "code",
   "execution_count": 30,
   "id": "2f73fa8e",
   "metadata": {
    "scrolled": true
   },
   "outputs": [
    {
     "data": {
      "text/html": [
       "<div>\n",
       "<style scoped>\n",
       "    .dataframe tbody tr th:only-of-type {\n",
       "        vertical-align: middle;\n",
       "    }\n",
       "\n",
       "    .dataframe tbody tr th {\n",
       "        vertical-align: top;\n",
       "    }\n",
       "\n",
       "    .dataframe thead th {\n",
       "        text-align: right;\n",
       "    }\n",
       "</style>\n",
       "<table border=\"1\" class=\"dataframe\">\n",
       "  <thead>\n",
       "    <tr style=\"text-align: right;\">\n",
       "      <th></th>\n",
       "      <th>f0</th>\n",
       "      <th>f1</th>\n",
       "      <th>f2</th>\n",
       "      <th>product</th>\n",
       "      <th>profit</th>\n",
       "    </tr>\n",
       "  </thead>\n",
       "  <tbody>\n",
       "    <tr>\n",
       "      <th>0</th>\n",
       "      <td>-15.001348</td>\n",
       "      <td>-8.276000</td>\n",
       "      <td>-0.005876</td>\n",
       "      <td>3.179103</td>\n",
       "      <td>1430.60</td>\n",
       "    </tr>\n",
       "    <tr>\n",
       "      <th>1</th>\n",
       "      <td>14.272088</td>\n",
       "      <td>-3.475083</td>\n",
       "      <td>0.999183</td>\n",
       "      <td>26.953261</td>\n",
       "      <td>12128.97</td>\n",
       "    </tr>\n",
       "    <tr>\n",
       "      <th>2</th>\n",
       "      <td>6.263187</td>\n",
       "      <td>-5.948386</td>\n",
       "      <td>5.001160</td>\n",
       "      <td>134.766305</td>\n",
       "      <td>60644.84</td>\n",
       "    </tr>\n",
       "    <tr>\n",
       "      <th>3</th>\n",
       "      <td>-13.081196</td>\n",
       "      <td>-11.506057</td>\n",
       "      <td>4.999415</td>\n",
       "      <td>137.945408</td>\n",
       "      <td>62075.43</td>\n",
       "    </tr>\n",
       "    <tr>\n",
       "      <th>4</th>\n",
       "      <td>12.702195</td>\n",
       "      <td>-8.147433</td>\n",
       "      <td>5.004363</td>\n",
       "      <td>134.766305</td>\n",
       "      <td>60644.84</td>\n",
       "    </tr>\n",
       "  </tbody>\n",
       "</table>\n",
       "</div>"
      ],
      "text/plain": [
       "          f0         f1        f2     product    profit\n",
       "0 -15.001348  -8.276000 -0.005876    3.179103   1430.60\n",
       "1  14.272088  -3.475083  0.999183   26.953261  12128.97\n",
       "2   6.263187  -5.948386  5.001160  134.766305  60644.84\n",
       "3 -13.081196 -11.506057  4.999415  137.945408  62075.43\n",
       "4  12.702195  -8.147433  5.004363  134.766305  60644.84"
      ]
     },
     "execution_count": 30,
     "metadata": {},
     "output_type": "execute_result"
    }
   ],
   "source": [
    "df_1['profit']=(df_1['product']*(INCOME_ONE_PROD/1000)).round(2) # profit, тыс.руб\n",
    "df_1.head()"
   ]
  },
  {
   "cell_type": "code",
   "execution_count": 31,
   "id": "34e62f41",
   "metadata": {
    "scrolled": true
   },
   "outputs": [
    {
     "data": {
      "text/html": [
       "<div>\n",
       "<style scoped>\n",
       "    .dataframe tbody tr th:only-of-type {\n",
       "        vertical-align: middle;\n",
       "    }\n",
       "\n",
       "    .dataframe tbody tr th {\n",
       "        vertical-align: top;\n",
       "    }\n",
       "\n",
       "    .dataframe thead th {\n",
       "        text-align: right;\n",
       "    }\n",
       "</style>\n",
       "<table border=\"1\" class=\"dataframe\">\n",
       "  <thead>\n",
       "    <tr style=\"text-align: right;\">\n",
       "      <th></th>\n",
       "      <th>f0</th>\n",
       "      <th>f1</th>\n",
       "      <th>f2</th>\n",
       "      <th>product</th>\n",
       "      <th>profit</th>\n",
       "    </tr>\n",
       "  </thead>\n",
       "  <tbody>\n",
       "    <tr>\n",
       "      <th>0</th>\n",
       "      <td>-1.146987</td>\n",
       "      <td>0.963328</td>\n",
       "      <td>-0.828965</td>\n",
       "      <td>27.758673</td>\n",
       "      <td>12491.40</td>\n",
       "    </tr>\n",
       "    <tr>\n",
       "      <th>1</th>\n",
       "      <td>0.262778</td>\n",
       "      <td>0.269839</td>\n",
       "      <td>-2.530187</td>\n",
       "      <td>56.069697</td>\n",
       "      <td>25231.36</td>\n",
       "    </tr>\n",
       "    <tr>\n",
       "      <th>2</th>\n",
       "      <td>0.194587</td>\n",
       "      <td>0.289035</td>\n",
       "      <td>-5.586433</td>\n",
       "      <td>62.871910</td>\n",
       "      <td>28292.36</td>\n",
       "    </tr>\n",
       "    <tr>\n",
       "      <th>3</th>\n",
       "      <td>2.236060</td>\n",
       "      <td>-0.553760</td>\n",
       "      <td>0.930038</td>\n",
       "      <td>114.572842</td>\n",
       "      <td>51557.78</td>\n",
       "    </tr>\n",
       "    <tr>\n",
       "      <th>4</th>\n",
       "      <td>-0.515993</td>\n",
       "      <td>1.716266</td>\n",
       "      <td>5.899011</td>\n",
       "      <td>149.600746</td>\n",
       "      <td>67320.34</td>\n",
       "    </tr>\n",
       "  </tbody>\n",
       "</table>\n",
       "</div>"
      ],
      "text/plain": [
       "         f0        f1        f2     product    profit\n",
       "0 -1.146987  0.963328 -0.828965   27.758673  12491.40\n",
       "1  0.262778  0.269839 -2.530187   56.069697  25231.36\n",
       "2  0.194587  0.289035 -5.586433   62.871910  28292.36\n",
       "3  2.236060 -0.553760  0.930038  114.572842  51557.78\n",
       "4 -0.515993  1.716266  5.899011  149.600746  67320.34"
      ]
     },
     "execution_count": 31,
     "metadata": {},
     "output_type": "execute_result"
    }
   ],
   "source": [
    "df_2['profit'] = (df_2['product'] * (INCOME_ONE_PROD / 1000)).round(2) # profit, тыс.руб\n",
    "df_2.head()"
   ]
  },
  {
   "cell_type": "markdown",
   "id": "82dd1c96",
   "metadata": {},
   "source": [
    "## Возврат на инвестиции RIO"
   ]
  },
  {
   "cell_type": "code",
   "execution_count": 32,
   "id": "cd4cfaf8",
   "metadata": {},
   "outputs": [],
   "source": [
    "budget_for_one_k = BUDGET_FOR_ONE/1000"
   ]
  },
  {
   "cell_type": "markdown",
   "id": "4e2b66d7",
   "metadata": {},
   "source": [
    "**Регион 0**"
   ]
  },
  {
   "cell_type": "code",
   "execution_count": 33,
   "id": "77c38221",
   "metadata": {},
   "outputs": [
    {
     "data": {
      "text/html": [
       "<div>\n",
       "<style scoped>\n",
       "    .dataframe tbody tr th:only-of-type {\n",
       "        vertical-align: middle;\n",
       "    }\n",
       "\n",
       "    .dataframe tbody tr th {\n",
       "        vertical-align: top;\n",
       "    }\n",
       "\n",
       "    .dataframe thead th {\n",
       "        text-align: right;\n",
       "    }\n",
       "</style>\n",
       "<table border=\"1\" class=\"dataframe\">\n",
       "  <thead>\n",
       "    <tr style=\"text-align: right;\">\n",
       "      <th></th>\n",
       "      <th>f0</th>\n",
       "      <th>f1</th>\n",
       "      <th>f2</th>\n",
       "      <th>product</th>\n",
       "      <th>profit</th>\n",
       "      <th>roi_%</th>\n",
       "    </tr>\n",
       "  </thead>\n",
       "  <tbody>\n",
       "    <tr>\n",
       "      <th>0</th>\n",
       "      <td>0.705745</td>\n",
       "      <td>-0.497823</td>\n",
       "      <td>1.221170</td>\n",
       "      <td>105.280062</td>\n",
       "      <td>47376.03</td>\n",
       "      <td>-5.25</td>\n",
       "    </tr>\n",
       "    <tr>\n",
       "      <th>1</th>\n",
       "      <td>1.334711</td>\n",
       "      <td>-0.340164</td>\n",
       "      <td>4.365080</td>\n",
       "      <td>73.037750</td>\n",
       "      <td>32866.99</td>\n",
       "      <td>-34.27</td>\n",
       "    </tr>\n",
       "    <tr>\n",
       "      <th>2</th>\n",
       "      <td>1.022732</td>\n",
       "      <td>0.151990</td>\n",
       "      <td>1.419926</td>\n",
       "      <td>85.265647</td>\n",
       "      <td>38369.54</td>\n",
       "      <td>-23.26</td>\n",
       "    </tr>\n",
       "    <tr>\n",
       "      <th>3</th>\n",
       "      <td>-0.032172</td>\n",
       "      <td>0.139033</td>\n",
       "      <td>2.978566</td>\n",
       "      <td>168.620776</td>\n",
       "      <td>75879.35</td>\n",
       "      <td>51.76</td>\n",
       "    </tr>\n",
       "    <tr>\n",
       "      <th>4</th>\n",
       "      <td>1.988431</td>\n",
       "      <td>0.155413</td>\n",
       "      <td>4.751769</td>\n",
       "      <td>154.036647</td>\n",
       "      <td>69316.49</td>\n",
       "      <td>38.63</td>\n",
       "    </tr>\n",
       "  </tbody>\n",
       "</table>\n",
       "</div>"
      ],
      "text/plain": [
       "         f0        f1        f2     product    profit  roi_%\n",
       "0  0.705745 -0.497823  1.221170  105.280062  47376.03  -5.25\n",
       "1  1.334711 -0.340164  4.365080   73.037750  32866.99 -34.27\n",
       "2  1.022732  0.151990  1.419926   85.265647  38369.54 -23.26\n",
       "3 -0.032172  0.139033  2.978566  168.620776  75879.35  51.76\n",
       "4  1.988431  0.155413  4.751769  154.036647  69316.49  38.63"
      ]
     },
     "execution_count": 33,
     "metadata": {},
     "output_type": "execute_result"
    }
   ],
   "source": [
    "df_0['roi_%']=((df_0['profit']-budget_for_one_k)/budget_for_one_k*100).round(2)\n",
    "df_0.head()"
   ]
  },
  {
   "cell_type": "code",
   "execution_count": 34,
   "id": "978320f3",
   "metadata": {
    "scrolled": true
   },
   "outputs": [
    {
     "name": "stdout",
     "output_type": "stream",
     "text": [
      "Разница объёма сырья для безубыточной разработки скважины относительносреднего значения по 1 региону составляет: -16.49%\n",
      "Или не хватает 18.32 тыс.баррелей\n"
     ]
    }
   ],
   "source": [
    "print('Разница объёма сырья для безубыточной разработки скважины относительно\\\n",
    "среднего значения по 1 региону составляет: {:.2%}'.format(predictions_mean_0 / min_volume_product - 1 ))\n",
    "print('Или не хватает {:.2f} тыс.баррелей'.format(min_volume_product - predictions_mean_0))"
   ]
  },
  {
   "cell_type": "markdown",
   "id": "39d2c080",
   "metadata": {},
   "source": [
    "**Регион 1**"
   ]
  },
  {
   "cell_type": "code",
   "execution_count": 35,
   "id": "9813107b",
   "metadata": {
    "scrolled": false
   },
   "outputs": [
    {
     "data": {
      "text/html": [
       "<div>\n",
       "<style scoped>\n",
       "    .dataframe tbody tr th:only-of-type {\n",
       "        vertical-align: middle;\n",
       "    }\n",
       "\n",
       "    .dataframe tbody tr th {\n",
       "        vertical-align: top;\n",
       "    }\n",
       "\n",
       "    .dataframe thead th {\n",
       "        text-align: right;\n",
       "    }\n",
       "</style>\n",
       "<table border=\"1\" class=\"dataframe\">\n",
       "  <thead>\n",
       "    <tr style=\"text-align: right;\">\n",
       "      <th></th>\n",
       "      <th>f0</th>\n",
       "      <th>f1</th>\n",
       "      <th>f2</th>\n",
       "      <th>product</th>\n",
       "      <th>profit</th>\n",
       "      <th>roi_%</th>\n",
       "    </tr>\n",
       "  </thead>\n",
       "  <tbody>\n",
       "    <tr>\n",
       "      <th>0</th>\n",
       "      <td>-15.001348</td>\n",
       "      <td>-8.276000</td>\n",
       "      <td>-0.005876</td>\n",
       "      <td>3.179103</td>\n",
       "      <td>1430.60</td>\n",
       "      <td>-97.14</td>\n",
       "    </tr>\n",
       "    <tr>\n",
       "      <th>1</th>\n",
       "      <td>14.272088</td>\n",
       "      <td>-3.475083</td>\n",
       "      <td>0.999183</td>\n",
       "      <td>26.953261</td>\n",
       "      <td>12128.97</td>\n",
       "      <td>-75.74</td>\n",
       "    </tr>\n",
       "    <tr>\n",
       "      <th>2</th>\n",
       "      <td>6.263187</td>\n",
       "      <td>-5.948386</td>\n",
       "      <td>5.001160</td>\n",
       "      <td>134.766305</td>\n",
       "      <td>60644.84</td>\n",
       "      <td>21.29</td>\n",
       "    </tr>\n",
       "    <tr>\n",
       "      <th>3</th>\n",
       "      <td>-13.081196</td>\n",
       "      <td>-11.506057</td>\n",
       "      <td>4.999415</td>\n",
       "      <td>137.945408</td>\n",
       "      <td>62075.43</td>\n",
       "      <td>24.15</td>\n",
       "    </tr>\n",
       "    <tr>\n",
       "      <th>4</th>\n",
       "      <td>12.702195</td>\n",
       "      <td>-8.147433</td>\n",
       "      <td>5.004363</td>\n",
       "      <td>134.766305</td>\n",
       "      <td>60644.84</td>\n",
       "      <td>21.29</td>\n",
       "    </tr>\n",
       "  </tbody>\n",
       "</table>\n",
       "</div>"
      ],
      "text/plain": [
       "          f0         f1        f2     product    profit  roi_%\n",
       "0 -15.001348  -8.276000 -0.005876    3.179103   1430.60 -97.14\n",
       "1  14.272088  -3.475083  0.999183   26.953261  12128.97 -75.74\n",
       "2   6.263187  -5.948386  5.001160  134.766305  60644.84  21.29\n",
       "3 -13.081196 -11.506057  4.999415  137.945408  62075.43  24.15\n",
       "4  12.702195  -8.147433  5.004363  134.766305  60644.84  21.29"
      ]
     },
     "execution_count": 35,
     "metadata": {},
     "output_type": "execute_result"
    }
   ],
   "source": [
    "df_1['roi_%']=((df_1['profit']-budget_for_one_k)/budget_for_one_k*100).round(2)\n",
    "df_1.head()"
   ]
  },
  {
   "cell_type": "code",
   "execution_count": 36,
   "id": "643ee562",
   "metadata": {},
   "outputs": [
    {
     "name": "stdout",
     "output_type": "stream",
     "text": [
      "Разница объёма сырья для безубыточной разработки скважины относительносреднего значения по 1 региону составляет: -37.94%\n",
      "Или не хватает 42.15 тыс.баррелей\n"
     ]
    }
   ],
   "source": [
    "print('Разница объёма сырья для безубыточной разработки скважины относительно\\\n",
    "среднего значения по 1 региону составляет: {:.2%}'.format(predictions_mean_1 / min_volume_product - 1 ))\n",
    "print('Или не хватает {:.2f} тыс.баррелей'.format(min_volume_product - predictions_mean_1))"
   ]
  },
  {
   "cell_type": "markdown",
   "id": "6127feaa",
   "metadata": {},
   "source": [
    "**Регион 2**"
   ]
  },
  {
   "cell_type": "code",
   "execution_count": 37,
   "id": "5e22cb85",
   "metadata": {},
   "outputs": [
    {
     "data": {
      "text/html": [
       "<div>\n",
       "<style scoped>\n",
       "    .dataframe tbody tr th:only-of-type {\n",
       "        vertical-align: middle;\n",
       "    }\n",
       "\n",
       "    .dataframe tbody tr th {\n",
       "        vertical-align: top;\n",
       "    }\n",
       "\n",
       "    .dataframe thead th {\n",
       "        text-align: right;\n",
       "    }\n",
       "</style>\n",
       "<table border=\"1\" class=\"dataframe\">\n",
       "  <thead>\n",
       "    <tr style=\"text-align: right;\">\n",
       "      <th></th>\n",
       "      <th>f0</th>\n",
       "      <th>f1</th>\n",
       "      <th>f2</th>\n",
       "      <th>product</th>\n",
       "      <th>profit</th>\n",
       "      <th>roi_%</th>\n",
       "    </tr>\n",
       "  </thead>\n",
       "  <tbody>\n",
       "    <tr>\n",
       "      <th>0</th>\n",
       "      <td>-1.146987</td>\n",
       "      <td>0.963328</td>\n",
       "      <td>-0.828965</td>\n",
       "      <td>27.758673</td>\n",
       "      <td>12491.40</td>\n",
       "      <td>-75.02</td>\n",
       "    </tr>\n",
       "    <tr>\n",
       "      <th>1</th>\n",
       "      <td>0.262778</td>\n",
       "      <td>0.269839</td>\n",
       "      <td>-2.530187</td>\n",
       "      <td>56.069697</td>\n",
       "      <td>25231.36</td>\n",
       "      <td>-49.54</td>\n",
       "    </tr>\n",
       "    <tr>\n",
       "      <th>2</th>\n",
       "      <td>0.194587</td>\n",
       "      <td>0.289035</td>\n",
       "      <td>-5.586433</td>\n",
       "      <td>62.871910</td>\n",
       "      <td>28292.36</td>\n",
       "      <td>-43.42</td>\n",
       "    </tr>\n",
       "    <tr>\n",
       "      <th>3</th>\n",
       "      <td>2.236060</td>\n",
       "      <td>-0.553760</td>\n",
       "      <td>0.930038</td>\n",
       "      <td>114.572842</td>\n",
       "      <td>51557.78</td>\n",
       "      <td>3.12</td>\n",
       "    </tr>\n",
       "    <tr>\n",
       "      <th>4</th>\n",
       "      <td>-0.515993</td>\n",
       "      <td>1.716266</td>\n",
       "      <td>5.899011</td>\n",
       "      <td>149.600746</td>\n",
       "      <td>67320.34</td>\n",
       "      <td>34.64</td>\n",
       "    </tr>\n",
       "  </tbody>\n",
       "</table>\n",
       "</div>"
      ],
      "text/plain": [
       "         f0        f1        f2     product    profit  roi_%\n",
       "0 -1.146987  0.963328 -0.828965   27.758673  12491.40 -75.02\n",
       "1  0.262778  0.269839 -2.530187   56.069697  25231.36 -49.54\n",
       "2  0.194587  0.289035 -5.586433   62.871910  28292.36 -43.42\n",
       "3  2.236060 -0.553760  0.930038  114.572842  51557.78   3.12\n",
       "4 -0.515993  1.716266  5.899011  149.600746  67320.34  34.64"
      ]
     },
     "execution_count": 37,
     "metadata": {},
     "output_type": "execute_result"
    }
   ],
   "source": [
    "df_2['roi_%']=((df_2['profit']-budget_for_one_k)/budget_for_one_k*100).round(2)\n",
    "df_2.head()"
   ]
  },
  {
   "cell_type": "code",
   "execution_count": 38,
   "id": "8fee8147",
   "metadata": {},
   "outputs": [
    {
     "name": "stdout",
     "output_type": "stream",
     "text": [
      "Разница объёма сырья для безубыточной разработки скважины относительносреднего значения по 1 региону составляет: -14.43%\n",
      "Или не хватает 16.03 тыс.баррелей\n"
     ]
    }
   ],
   "source": [
    "print('Разница объёма сырья для безубыточной разработки скважины относительно\\\n",
    "среднего значения по 1 региону составляет: {:.2%}'.format(predictions_mean_2 / min_volume_product - 1 ))\n",
    "print('Или не хватает {:.2f} тыс.баррелей'.format(min_volume_product - predictions_mean_2))"
   ]
  },
  {
   "cell_type": "markdown",
   "id": "c242bd0f",
   "metadata": {},
   "source": [
    "**Вывод**<br>\n",
    "Исходя из полученных данных очевидно, что среднее количество запасов сырья по регионам недостаточное для окупаемости разработки.<br>\n",
    "Нужно выбрать скважины с максимальными запасами."
   ]
  },
  {
   "cell_type": "markdown",
   "id": "3cf85e71",
   "metadata": {},
   "source": [
    "# Расчет прибыли по выбранным скважинам и предсказаниям модели"
   ]
  },
  {
   "cell_type": "code",
   "execution_count": 39,
   "id": "6b0f7983",
   "metadata": {},
   "outputs": [],
   "source": [
    "def profit_for_best(predict, target, count):\n",
    "    # Привязка индексов и к предсказаниям и сортировка\n",
    "    probs_sorted = pd.Series(predict, index=target.index).sort_values(ascending=False)\n",
    "    selected_max = probs_sorted[:count].sum() # Сумма по лучшим скважинам\n",
    "    \n",
    "    profit_pred = (selected_max * INCOME_ONE_PROD) - BUDGET\n",
    "    print('Суммарный запас сырья в 200 лучших скважинах составит: %.2f тыс.баррелей'%selected_max)\n",
    "    print('Прибыль для полученного объёма сырья составит %.2f млн.рублей'%(profit_pred/100000)) \n",
    "   \n",
    "    return selected_max"
   ]
  },
  {
   "cell_type": "code",
   "execution_count": 40,
   "id": "9f5b9b1d",
   "metadata": {},
   "outputs": [],
   "source": [
    "selected_max = []"
   ]
  },
  {
   "cell_type": "markdown",
   "id": "09fa37d7",
   "metadata": {},
   "source": [
    "**Регион 0**"
   ]
  },
  {
   "cell_type": "code",
   "execution_count": 41,
   "id": "11b583a9",
   "metadata": {
    "scrolled": false
   },
   "outputs": [
    {
     "name": "stdout",
     "output_type": "stream",
     "text": [
      "Суммарный запас сырья в 200 лучших скважинах составит: 29020.12 тыс.баррелей\n",
      "Прибыль для полученного объёма сырья составит 30590.55 млн.рублей\n"
     ]
    }
   ],
   "source": [
    "selected_max.append(profit_for_best(predicted_0, target_0, BEST_POINTS))"
   ]
  },
  {
   "cell_type": "markdown",
   "id": "434966dd",
   "metadata": {},
   "source": [
    "**Регион 1**"
   ]
  },
  {
   "cell_type": "code",
   "execution_count": 42,
   "id": "a7fa58ff",
   "metadata": {},
   "outputs": [
    {
     "name": "stdout",
     "output_type": "stream",
     "text": [
      "Суммарный запас сырья в 200 лучших скважинах составит: 27648.78 тыс.баррелей\n",
      "Прибыль для полученного объёма сырья составит 24419.52 млн.рублей\n"
     ]
    }
   ],
   "source": [
    "selected_max.append(profit_for_best(predicted_1, target_1, BEST_POINTS))"
   ]
  },
  {
   "cell_type": "markdown",
   "id": "7d6ed05e",
   "metadata": {},
   "source": [
    "**Регион 2**"
   ]
  },
  {
   "cell_type": "code",
   "execution_count": 43,
   "id": "d47affa2",
   "metadata": {
    "scrolled": true
   },
   "outputs": [
    {
     "name": "stdout",
     "output_type": "stream",
     "text": [
      "Суммарный запас сырья в 200 лучших скважинах составит: 28041.72 тыс.баррелей\n",
      "Прибыль для полученного объёма сырья составит 26187.72 млн.рублей\n"
     ]
    }
   ],
   "source": [
    "selected_max.append(profit_for_best(predicted_2, target_2, BEST_POINTS))"
   ]
  },
  {
   "cell_type": "markdown",
   "id": "28dbd099",
   "metadata": {},
   "source": [
    "**Вывод**<br>\n",
    "Все три региона потенциально прибыльные, если вести разработку не по всем подряд скважинам, а только по самым лучшим."
   ]
  },
  {
   "cell_type": "markdown",
   "id": "774a709b",
   "metadata": {},
   "source": [
    "# Расчет прибыли и рисков"
   ]
  },
  {
   "cell_type": "code",
   "execution_count": 44,
   "id": "dbc1a031",
   "metadata": {},
   "outputs": [],
   "source": [
    "def profit(target, probabilities):\n",
    "    target = pd.Series(target).reset_index(drop=True)\n",
    "    probabilities = pd.Series(probabilities).reset_index(drop=True)\n",
    "    probs_sorted = probabilities.sort_values(ascending=False)\n",
    "    selected = target[probs_sorted.index][:BEST_POINTS]\n",
    "    \n",
    "    mlrd = 1000000000\n",
    "    return ((INCOME_ONE_PROD * selected.sum()) - BUDGET) / mlrd #, max_volume"
   ]
  },
  {
   "cell_type": "code",
   "execution_count": 45,
   "id": "cc1a3ff3",
   "metadata": {},
   "outputs": [],
   "source": [
    "def bootstrap (target, predictions):\n",
    "    values = []\n",
    "    for i in range(BOOTHSTRP_SAMPLS):\n",
    "        target_subsample = target.reset_index(drop=True).sample(n=POINTS, replace=True, random_state=RND)\n",
    "        probs_subsample = predictions[target_subsample.index]\n",
    "        pr = profit(target_subsample, probs_subsample)\n",
    "        values.append(pr)\n",
    "    values = pd.Series(values)\n",
    "    mean = values.mean() * 1000\n",
    "    low = values.quantile(0.025) * 1000\n",
    "    high = values.quantile(0.975) * 1000\n",
    "    confidence_interval = st.t.interval(0.95, len(values)-1, values.mean(), values.sem())\n",
    "    \n",
    "    plt.title('Распределение прибыли')\n",
    "    values.plot(kind=\"hist\", grid=True, figsize=(8,5))\n",
    "    plt.xlabel('Прибыль, тыс.руб')\n",
    "    plt.ylabel('Количество')\n",
    "    plt.show()\n",
    "    risk = (values < 0).mean() * 100\n",
    "   \n",
    "    \n",
    "    print(\"Средняя выручка: {:.2f} млн.руб\".format(mean))\n",
    "    print('С вероятностью 95% прибыль в данном регионе будет составлять от: {:.2f} млн.руб до: {:.2f} млн.руб'.\n",
    "          format(low, high))\n",
    "    print(\"95%-ый доверительный интервал: от {:.2f} млн.руб до {:.2f} млн.руб\". \n",
    "          format((confidence_interval[0]*1000),(confidence_interval[1]*1000)))\n",
    "    print(\"Риск убытка: {:.2f} %\".format(risk))\n",
    "    #print(max_volume)\n",
    "    return mean, risk"
   ]
  },
  {
   "cell_type": "markdown",
   "id": "f7f6bc3f",
   "metadata": {},
   "source": [
    "### Распределение прибыли Регион 0"
   ]
  },
  {
   "cell_type": "code",
   "execution_count": 46,
   "id": "c668b8fb",
   "metadata": {},
   "outputs": [],
   "source": [
    "mean = []\n",
    "risk = []"
   ]
  },
  {
   "cell_type": "code",
   "execution_count": 47,
   "id": "5929ed77",
   "metadata": {
    "scrolled": true
   },
   "outputs": [
    {
     "data": {
      "image/png": "[encoded data removed]",
      "text/plain": [
       "<Figure size 576x360 with 1 Axes>"
      ]
     },
     "metadata": {
      "needs_background": "light"
     },
     "output_type": "display_data"
    },
    {
     "name": "stdout",
     "output_type": "stream",
     "text": [
      "Средняя выручка: 389.04 млн.руб\n",
      "С вероятностью 95% прибыль в данном регионе будет составлять от: -112.97 млн.руб до: 894.00 млн.руб\n",
      "95%-ый доверительный интервал: от 372.70 млн.руб до 405.39 млн.руб\n",
      "Риск убытка: 7.40 %\n"
     ]
    }
   ],
   "source": [
    "mean1, risk1 = bootstrap(target_0, predicted_0)\n",
    "mean.append(mean1)\n",
    "risk.append(risk1)"
   ]
  },
  {
   "cell_type": "markdown",
   "id": "6d47583c",
   "metadata": {},
   "source": [
    "### Распределение прибыли Регион 1"
   ]
  },
  {
   "cell_type": "code",
   "execution_count": 48,
   "id": "5028a22f",
   "metadata": {},
   "outputs": [
    {
     "data": {
      "image/png": "[encoded data removed]",
      "text/plain": [
       "<Figure size 576x360 with 1 Axes>"
      ]
     },
     "metadata": {
      "needs_background": "light"
     },
     "output_type": "display_data"
    },
    {
     "name": "stdout",
     "output_type": "stream",
     "text": [
      "Средняя выручка: 439.07 млн.руб\n",
      "С вероятностью 95% прибыль в данном регионе будет составлять от: 33.06 млн.руб до: 850.15 млн.руб\n",
      "95%-ый доверительный интервал: от 426.76 млн.руб до 451.39 млн.руб\n",
      "Риск убытка: 1.30 %\n"
     ]
    }
   ],
   "source": [
    "mean1, risk1 = bootstrap(target_1, predicted_1)\n",
    "mean.append(mean1)\n",
    "risk.append(risk1)"
   ]
  },
  {
   "cell_type": "markdown",
   "id": "d3083955",
   "metadata": {},
   "source": [
    "### Распределение прибыли Регион 2"
   ]
  },
  {
   "cell_type": "code",
   "execution_count": 49,
   "id": "3d91a7d6",
   "metadata": {},
   "outputs": [
    {
     "data": {
      "image/png": "[encoded data removed]",
      "text/plain": [
       "<Figure size 576x360 with 1 Axes>"
      ]
     },
     "metadata": {
      "needs_background": "light"
     },
     "output_type": "display_data"
    },
    {
     "name": "stdout",
     "output_type": "stream",
     "text": [
      "Средняя выручка: 450.22 млн.руб\n",
      "С вероятностью 95% прибыль в данном регионе будет составлять от: -62.39 млн.руб до: 943.66 млн.руб\n",
      "95%-ый доверительный интервал: от 433.97 млн.руб до 466.48 млн.руб\n",
      "Риск убытка: 4.60 %\n"
     ]
    }
   ],
   "source": [
    "mean1, risk1 = bootstrap(target_2, predicted_2)\n",
    "mean.append(mean1)\n",
    "risk.append(risk1)"
   ]
  },
  {
   "cell_type": "markdown",
   "id": "9f1c1915",
   "metadata": {},
   "source": [
    "## Выбор региона"
   ]
  },
  {
   "cell_type": "markdown",
   "id": "f987b46d",
   "metadata": {},
   "source": [
    "* оставим регионы, в которых вероятность убытков меньше 2.5%\n",
    "* cреди них выберем регион с наибольшей средней прибылью\n",
    "* cравним среднюю прибыль, вероятность убытка и суммарный запас сырья трёх представленных регионов в таблице"
   ]
  },
  {
   "cell_type": "code",
   "execution_count": 50,
   "id": "e4a12f48",
   "metadata": {},
   "outputs": [
    {
     "data": {
      "text/html": [
       "<div>\n",
       "<style scoped>\n",
       "    .dataframe tbody tr th:only-of-type {\n",
       "        vertical-align: middle;\n",
       "    }\n",
       "\n",
       "    .dataframe tbody tr th {\n",
       "        vertical-align: top;\n",
       "    }\n",
       "\n",
       "    .dataframe thead th {\n",
       "        text-align: right;\n",
       "    }\n",
       "</style>\n",
       "<table border=\"1\" class=\"dataframe\">\n",
       "  <thead>\n",
       "    <tr style=\"text-align: right;\">\n",
       "      <th></th>\n",
       "      <th>Регион 0</th>\n",
       "      <th>Регион 1</th>\n",
       "      <th>Регион 2</th>\n",
       "    </tr>\n",
       "  </thead>\n",
       "  <tbody>\n",
       "    <tr>\n",
       "      <th>Средняя прибыль в регионе, млн.руб</th>\n",
       "      <td>389.044489</td>\n",
       "      <td>439.072389</td>\n",
       "      <td>450.224714</td>\n",
       "    </tr>\n",
       "    <tr>\n",
       "      <th>Суммарный запас сырья, тыс.баррелей</th>\n",
       "      <td>29020.12193</td>\n",
       "      <td>27648.781993</td>\n",
       "      <td>28041.716206</td>\n",
       "    </tr>\n",
       "    <tr>\n",
       "      <th>Вероятность убытка, %</th>\n",
       "      <td>7.4</td>\n",
       "      <td>1.3</td>\n",
       "      <td>4.6</td>\n",
       "    </tr>\n",
       "  </tbody>\n",
       "</table>\n",
       "</div>"
      ],
      "text/plain": [
       "                                        Регион 0      Регион 1      Регион 2\n",
       "Средняя прибыль в регионе, млн.руб    389.044489    439.072389    450.224714\n",
       "Суммарный запас сырья, тыс.баррелей  29020.12193  27648.781993  28041.716206\n",
       "Вероятность убытка, %                        7.4           1.3           4.6"
      ]
     },
     "execution_count": 50,
     "metadata": {},
     "output_type": "execute_result"
    }
   ],
   "source": [
    "final_table = None\n",
    "final_table = pd.DataFrame(index=['Средняя прибыль в регионе, млн.руб',\\\n",
    "                                  'Суммарный запас сырья, тыс.баррелей','Вероятность убытка, %'], \n",
    "                           columns=['Регион 0','Регион 1','Регион 2'])\n",
    "final_table.loc['Средняя прибыль в регионе, млн.руб', ] = mean\n",
    "final_table.loc['Суммарный запас сырья, тыс.баррелей', ] = selected_max\n",
    "final_table.loc['Вероятность убытка, %', ] = risk\n",
    "final_table"
   ]
  },
  {
   "cell_type": "code",
   "execution_count": 51,
   "id": "f2ad94b4",
   "metadata": {},
   "outputs": [
    {
     "data": {
      "image/png": "[encoded data removed]",
      "text/plain": [
       "<Figure size 576x360 with 1 Axes>"
      ]
     },
     "metadata": {
      "needs_background": "light"
     },
     "output_type": "display_data"
    }
   ],
   "source": [
    "final_table.astype('float').iloc[0,:].plot(kind=\"bar\", figsize=(8,5), grid=True, alpha=0.7, subplots=True)\n",
    "plt.title('Средняя прибыль трёх представленных регионов')\n",
    "plt.ylabel('Средняя прибыль в регионе, млн.руб')\n",
    "plt.show()"
   ]
  },
  {
   "cell_type": "code",
   "execution_count": 52,
   "id": "35680e0e",
   "metadata": {},
   "outputs": [
    {
     "data": {
      "image/png": "[encoded data removed]",
      "text/plain": [
       "<Figure size 432x432 with 1 Axes>"
      ]
     },
     "metadata": {},
     "output_type": "display_data"
    }
   ],
   "source": [
    "final_table.astype('float').iloc[1,:].plot(kind='pie', figsize=(6,6),autopct='%1.1f%%', subplots=True)\n",
    "plt.title('Распределение запасов сырья')\n",
    "plt.ylabel('')\n",
    "plt.show()"
   ]
  },
  {
   "cell_type": "markdown",
   "id": "743e0794",
   "metadata": {},
   "source": [
    "**Вывод**\n",
    "Согласно распределению среднего значения прибыли с региона, самым прибыльным оказался 1 -й регион.<br>\n",
    "Два других региона не прошли отбор по минимально допустимому порогу убытка в 2,5%. Таким образом не смотря на сравнительно меньшие запасы сырья, по сравнению с другими регионами, средняя доходность со скважин во втором регионе прогнозируется выше других."
   ]
  },
  {
   "cell_type": "markdown",
   "id": "06f7d5fe",
   "metadata": {},
   "source": [
    "# Общий вывод"
   ]
  },
  {
   "cell_type": "markdown",
   "id": "2269aa43",
   "metadata": {},
   "source": [
    "Проведено исследование по скважинам трех регионов, в каждом из которых были данные о запасах сырья (на 10 тыс.скважин).<br>\n",
    "\n",
    "\n",
    "При первом знакомстве с данными обнаружено, что средний запас ресурсов по регионам недостаточен даже для окупаемости вложений на разработку. Разработка во всех регионах не рентабельна.<br>\n",
    "\n",
    "В последствии была обучена модель и выполнены предсказания при помощи линейной регрессии, а так же применина технология bootstrap, с разделением каждого предсказанного значения прибыли по регионам на 1000 выборок.<br>\n",
    "\n",
    "В результате получен доверительный интервал получения прибыли в 95%, при ограничении рисков убытка величиной менее 2,5%.<br>\n",
    "На основе этих данных выбран перспективный регион для разработки 200 скважин.<br>\n",
    "\n",
    "Таким образом не смотря на сравнительно меньшие предсказания по запасам сырья по сравнению с другими регионами наиболее перспективным оказался Регион 1, с минимальными рисками убытка и превышающей остальные регионы средней прибылью."
   ]
  }
 ],
 "metadata": {
  "ExecuteTimeLog": [
   {
    "duration": 2942,
    "start_time": "2023-01-09T16:52:32.279Z"
   },
   {
    "duration": 4,
    "start_time": "2023-01-09T16:52:35.223Z"
   },
   {
    "duration": 442,
    "start_time": "2023-01-09T16:52:35.228Z"
   },
   {
    "duration": 66,
    "start_time": "2023-01-09T16:52:35.672Z"
   },
   {
    "duration": 17,
    "start_time": "2023-01-09T16:52:35.740Z"
   },
   {
    "duration": 144,
    "start_time": "2023-01-09T16:52:35.758Z"
   },
   {
    "duration": 52,
    "start_time": "2023-01-09T16:52:35.904Z"
   },
   {
    "duration": 101,
    "start_time": "2023-01-09T16:52:35.958Z"
   },
   {
    "duration": 351,
    "start_time": "2023-01-09T16:52:36.061Z"
   },
   {
    "duration": 329,
    "start_time": "2023-01-09T16:52:36.414Z"
   },
   {
    "duration": 16,
    "start_time": "2023-01-09T16:52:36.744Z"
   },
   {
    "duration": 317,
    "start_time": "2023-01-09T16:52:36.761Z"
   },
   {
    "duration": 270,
    "start_time": "2023-01-09T16:52:37.079Z"
   },
   {
    "duration": 5,
    "start_time": "2023-01-09T16:52:37.352Z"
   },
   {
    "duration": 140,
    "start_time": "2023-01-09T16:52:37.359Z"
   },
   {
    "duration": 206,
    "start_time": "2023-01-09T16:52:37.500Z"
   },
   {
    "duration": 134,
    "start_time": "2023-01-09T16:52:37.707Z"
   },
   {
    "duration": 3,
    "start_time": "2023-01-09T16:52:37.843Z"
   },
   {
    "duration": 182,
    "start_time": "2023-01-09T16:52:37.847Z"
   },
   {
    "duration": 6,
    "start_time": "2023-01-09T16:52:38.033Z"
   },
   {
    "duration": 5,
    "start_time": "2023-01-09T16:52:38.127Z"
   },
   {
    "duration": 7,
    "start_time": "2023-01-09T16:52:38.227Z"
   },
   {
    "duration": 7,
    "start_time": "2023-01-09T16:52:38.236Z"
   },
   {
    "duration": 13,
    "start_time": "2023-01-09T16:52:38.244Z"
   },
   {
    "duration": 7,
    "start_time": "2023-01-09T16:52:38.259Z"
   },
   {
    "duration": 6,
    "start_time": "2023-01-09T16:52:38.267Z"
   },
   {
    "duration": 6,
    "start_time": "2023-01-09T16:52:38.275Z"
   },
   {
    "duration": 6,
    "start_time": "2023-01-09T16:52:38.283Z"
   },
   {
    "duration": 41,
    "start_time": "2023-01-09T16:52:38.290Z"
   },
   {
    "duration": 10,
    "start_time": "2023-01-09T16:52:38.333Z"
   },
   {
    "duration": 14,
    "start_time": "2023-01-09T16:52:38.345Z"
   },
   {
    "duration": 2,
    "start_time": "2023-01-09T16:52:38.361Z"
   },
   {
    "duration": 18,
    "start_time": "2023-01-09T16:52:38.364Z"
   },
   {
    "duration": 46,
    "start_time": "2023-01-09T16:52:38.383Z"
   },
   {
    "duration": 15,
    "start_time": "2023-01-09T16:52:38.431Z"
   },
   {
    "duration": 4,
    "start_time": "2023-01-09T16:52:38.447Z"
   },
   {
    "duration": 14,
    "start_time": "2023-01-09T16:52:38.452Z"
   },
   {
    "duration": 3,
    "start_time": "2023-01-09T16:52:38.468Z"
   },
   {
    "duration": 9,
    "start_time": "2023-01-09T16:52:38.473Z"
   },
   {
    "duration": 5,
    "start_time": "2023-01-09T16:52:38.484Z"
   },
   {
    "duration": 40,
    "start_time": "2023-01-09T16:52:38.493Z"
   },
   {
    "duration": 7,
    "start_time": "2023-01-09T16:52:38.534Z"
   },
   {
    "duration": 12,
    "start_time": "2023-01-09T16:52:38.542Z"
   },
   {
    "duration": 4,
    "start_time": "2023-01-09T16:52:38.555Z"
   },
   {
    "duration": 9,
    "start_time": "2023-01-09T16:52:38.560Z"
   },
   {
    "duration": 8,
    "start_time": "2023-01-09T16:52:38.570Z"
   },
   {
    "duration": 1494,
    "start_time": "2023-01-09T16:52:38.580Z"
   },
   {
    "duration": 1439,
    "start_time": "2023-01-09T16:52:40.076Z"
   },
   {
    "duration": 1448,
    "start_time": "2023-01-09T16:52:41.517Z"
   },
   {
    "duration": 9,
    "start_time": "2023-01-09T16:52:42.967Z"
   },
   {
    "duration": 149,
    "start_time": "2023-01-09T16:52:42.977Z"
   },
   {
    "duration": 107,
    "start_time": "2023-01-09T16:52:43.128Z"
   }
  ],
  "kernelspec": {
   "display_name": "Python 3 (ipykernel)",
   "language": "python",
   "name": "python3"
  },
  "language_info": {
   "codemirror_mode": {
    "name": "ipython",
    "version": 3
   },
   "file_extension": ".py",
   "mimetype": "text/x-python",
   "name": "python",
   "nbconvert_exporter": "python",
   "pygments_lexer": "ipython3",
   "version": "3.9.13"
  },
  "toc": {
   "base_numbering": 1,
   "nav_menu": {},
   "number_sections": false,
   "sideBar": true,
   "skip_h1_title": false,
   "title_cell": "Table of Contents",
   "title_sidebar": "Contents",
   "toc_cell": false,
   "toc_position": {
    "height": "calc(100% - 180px)",
    "left": "10px",
    "top": "150px",
    "width": "248.52px"
   },
   "toc_section_display": true,
   "toc_window_display": true
  }
 },
 "nbformat": 4,
 "nbformat_minor": 5
}
